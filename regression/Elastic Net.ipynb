{
 "cells": [
  {
   "cell_type": "code",
   "execution_count": 1,
   "id": "36583a1d",
   "metadata": {},
   "outputs": [],
   "source": [
    "import numpy as np \n",
    "import pandas as pd\n",
    "import matplotlib.pyplot as plt\n",
    "import seaborn as sns"
   ]
  },
  {
   "cell_type": "code",
   "execution_count": 2,
   "id": "6eda871f",
   "metadata": {},
   "outputs": [],
   "source": [
    "df = pd.read_excel(\"insurance.xlsx\")"
   ]
  },
  {
   "cell_type": "code",
   "execution_count": 3,
   "id": "91f21aa7",
   "metadata": {},
   "outputs": [
    {
     "data": {
      "text/html": [
       "<div>\n",
       "<style scoped>\n",
       "    .dataframe tbody tr th:only-of-type {\n",
       "        vertical-align: middle;\n",
       "    }\n",
       "\n",
       "    .dataframe tbody tr th {\n",
       "        vertical-align: top;\n",
       "    }\n",
       "\n",
       "    .dataframe thead th {\n",
       "        text-align: right;\n",
       "    }\n",
       "</style>\n",
       "<table border=\"1\" class=\"dataframe\">\n",
       "  <thead>\n",
       "    <tr style=\"text-align: right;\">\n",
       "      <th></th>\n",
       "      <th>age</th>\n",
       "      <th>sex</th>\n",
       "      <th>bmi</th>\n",
       "      <th>children</th>\n",
       "      <th>smoker</th>\n",
       "      <th>region</th>\n",
       "      <th>expenses</th>\n",
       "    </tr>\n",
       "  </thead>\n",
       "  <tbody>\n",
       "    <tr>\n",
       "      <th>0</th>\n",
       "      <td>19</td>\n",
       "      <td>female</td>\n",
       "      <td>27.9</td>\n",
       "      <td>0</td>\n",
       "      <td>yes</td>\n",
       "      <td>southwest</td>\n",
       "      <td>16884.92</td>\n",
       "    </tr>\n",
       "    <tr>\n",
       "      <th>1</th>\n",
       "      <td>18</td>\n",
       "      <td>male</td>\n",
       "      <td>33.8</td>\n",
       "      <td>1</td>\n",
       "      <td>no</td>\n",
       "      <td>southeast</td>\n",
       "      <td>1725.55</td>\n",
       "    </tr>\n",
       "    <tr>\n",
       "      <th>2</th>\n",
       "      <td>28</td>\n",
       "      <td>male</td>\n",
       "      <td>33.0</td>\n",
       "      <td>3</td>\n",
       "      <td>no</td>\n",
       "      <td>southeast</td>\n",
       "      <td>4449.46</td>\n",
       "    </tr>\n",
       "    <tr>\n",
       "      <th>3</th>\n",
       "      <td>33</td>\n",
       "      <td>male</td>\n",
       "      <td>22.7</td>\n",
       "      <td>0</td>\n",
       "      <td>no</td>\n",
       "      <td>northwest</td>\n",
       "      <td>21984.47</td>\n",
       "    </tr>\n",
       "    <tr>\n",
       "      <th>4</th>\n",
       "      <td>32</td>\n",
       "      <td>male</td>\n",
       "      <td>28.9</td>\n",
       "      <td>0</td>\n",
       "      <td>no</td>\n",
       "      <td>northwest</td>\n",
       "      <td>3866.86</td>\n",
       "    </tr>\n",
       "  </tbody>\n",
       "</table>\n",
       "</div>"
      ],
      "text/plain": [
       "   age     sex   bmi  children smoker     region  expenses\n",
       "0   19  female  27.9         0    yes  southwest  16884.92\n",
       "1   18    male  33.8         1     no  southeast   1725.55\n",
       "2   28    male  33.0         3     no  southeast   4449.46\n",
       "3   33    male  22.7         0     no  northwest  21984.47\n",
       "4   32    male  28.9         0     no  northwest   3866.86"
      ]
     },
     "execution_count": 3,
     "metadata": {},
     "output_type": "execute_result"
    }
   ],
   "source": [
    "df.head()"
   ]
  },
  {
   "cell_type": "code",
   "execution_count": 4,
   "id": "bdc83577",
   "metadata": {},
   "outputs": [
    {
     "data": {
      "text/plain": [
       "age         0\n",
       "sex         0\n",
       "bmi         0\n",
       "children    0\n",
       "smoker      0\n",
       "region      0\n",
       "expenses    0\n",
       "dtype: int64"
      ]
     },
     "execution_count": 4,
     "metadata": {},
     "output_type": "execute_result"
    }
   ],
   "source": [
    "df.isnull().sum()"
   ]
  },
  {
   "cell_type": "code",
   "execution_count": 5,
   "id": "361a849a",
   "metadata": {},
   "outputs": [
    {
     "data": {
      "text/plain": [
       "1"
      ]
     },
     "execution_count": 5,
     "metadata": {},
     "output_type": "execute_result"
    }
   ],
   "source": [
    "df.duplicated().sum()"
   ]
  },
  {
   "cell_type": "code",
   "execution_count": 6,
   "id": "5642d31b",
   "metadata": {},
   "outputs": [
    {
     "data": {
      "text/plain": [
       "0"
      ]
     },
     "execution_count": 6,
     "metadata": {},
     "output_type": "execute_result"
    }
   ],
   "source": [
    "df = df.drop_duplicates()\n",
    "\n",
    "df.duplicated().sum()"
   ]
  },
  {
   "cell_type": "code",
   "execution_count": 7,
   "id": "da087c9c",
   "metadata": {},
   "outputs": [
    {
     "data": {
      "text/html": [
       "<div>\n",
       "<style scoped>\n",
       "    .dataframe tbody tr th:only-of-type {\n",
       "        vertical-align: middle;\n",
       "    }\n",
       "\n",
       "    .dataframe tbody tr th {\n",
       "        vertical-align: top;\n",
       "    }\n",
       "\n",
       "    .dataframe thead th {\n",
       "        text-align: right;\n",
       "    }\n",
       "</style>\n",
       "<table border=\"1\" class=\"dataframe\">\n",
       "  <thead>\n",
       "    <tr style=\"text-align: right;\">\n",
       "      <th></th>\n",
       "      <th>sex</th>\n",
       "      <th>smoker</th>\n",
       "      <th>region</th>\n",
       "    </tr>\n",
       "  </thead>\n",
       "  <tbody>\n",
       "    <tr>\n",
       "      <th>0</th>\n",
       "      <td>female</td>\n",
       "      <td>yes</td>\n",
       "      <td>southwest</td>\n",
       "    </tr>\n",
       "    <tr>\n",
       "      <th>1</th>\n",
       "      <td>male</td>\n",
       "      <td>no</td>\n",
       "      <td>southeast</td>\n",
       "    </tr>\n",
       "  </tbody>\n",
       "</table>\n",
       "</div>"
      ],
      "text/plain": [
       "      sex smoker     region\n",
       "0  female    yes  southwest\n",
       "1    male     no  southeast"
      ]
     },
     "execution_count": 7,
     "metadata": {},
     "output_type": "execute_result"
    }
   ],
   "source": [
    "object_df = df.select_dtypes(include='object')\n",
    "object_df.head(2)"
   ]
  },
  {
   "cell_type": "code",
   "execution_count": 8,
   "id": "8971a803",
   "metadata": {},
   "outputs": [],
   "source": [
    "numeric_df = df.select_dtypes(include='number')\n",
    "numeric_df = numeric_df.drop('children', axis = 1)"
   ]
  },
  {
   "cell_type": "code",
   "execution_count": 9,
   "id": "1f5d2450",
   "metadata": {},
   "outputs": [
    {
     "data": {
      "image/png": "[encoded data removed]",
      "text/plain": [
       "<Figure size 1000x600 with 3 Axes>"
      ]
     },
     "metadata": {},
     "output_type": "display_data"
    }
   ],
   "source": [
    "plt.figure(figsize = (10,6))\n",
    "i = 1\n",
    "\n",
    "for cols in numeric_df.columns:\n",
    "    plt.subplot(2,2,i);i += 1\n",
    "    sns.boxplot(x = numeric_df[cols], data = df)\n",
    "    plt.tight_layout()\n",
    "plt.show()"
   ]
  },
  {
   "cell_type": "code",
   "execution_count": 10,
   "id": "2e417898",
   "metadata": {},
   "outputs": [
    {
     "data": {
      "text/plain": [
       "age         0.054781\n",
       "bmi         0.284463\n",
       "children    0.937421\n",
       "expenses    1.515391\n",
       "dtype: float64"
      ]
     },
     "execution_count": 10,
     "metadata": {},
     "output_type": "execute_result"
    }
   ],
   "source": [
    "import warnings\n",
    "warnings.filterwarnings('ignore')\n",
    "\n",
    "df.skew()"
   ]
  },
  {
   "cell_type": "code",
   "execution_count": 11,
   "id": "c13d0040",
   "metadata": {},
   "outputs": [
    {
     "data": {
      "text/plain": [
       "age         0.054781\n",
       "bmi         0.284463\n",
       "children    0.937421\n",
       "expenses    1.515391\n",
       "dtype: float64"
      ]
     },
     "execution_count": 11,
     "metadata": {},
     "output_type": "execute_result"
    }
   ],
   "source": [
    "df.skew()"
   ]
  },
  {
   "cell_type": "code",
   "execution_count": 12,
   "id": "7dd1865c",
   "metadata": {},
   "outputs": [
    {
     "name": "stdout",
     "output_type": "stream",
     "text": [
      "lower limit--------------\n",
      " age           18.0000\n",
      "bmi           19.2720\n",
      "expenses    1621.7288\n",
      "Name: 0.02, dtype: float64 \n",
      "\n",
      "\n",
      "upper limit-------------\n",
      " age            63.0000\n",
      "bmi            43.9280\n",
      "expenses    46677.3216\n",
      "Name: 0.98, dtype: float64\n"
     ]
    }
   ],
   "source": [
    "lower_limit = numeric_df.quantile(0.02)\n",
    "upper_limit = numeric_df.quantile(0.98)\n",
    "print('lower limit--------------\\n',lower_limit,'\\n\\n\\nupper limit-------------\\n', upper_limit)"
   ]
  },
  {
   "cell_type": "code",
   "execution_count": 13,
   "id": "5db0f7a0",
   "metadata": {},
   "outputs": [
    {
     "data": {
      "text/plain": [
       "(76, 7)"
      ]
     },
     "execution_count": 13,
     "metadata": {},
     "output_type": "execute_result"
    }
   ],
   "source": [
    "df[(((df.age < lower_limit[0])|(df.age > upper_limit[0])) | ((df.bmi < lower_limit[1])|(df.bmi > upper_limit[1])))].shape"
   ]
  },
  {
   "cell_type": "code",
   "execution_count": 14,
   "id": "076e358b",
   "metadata": {},
   "outputs": [],
   "source": [
    "df = df[~(((df.age < lower_limit[0])|(df.age > upper_limit[0])) | ((df.bmi < lower_limit[1])|(df.bmi > upper_limit[1])))]"
   ]
  },
  {
   "cell_type": "code",
   "execution_count": 15,
   "id": "1e49ef21",
   "metadata": {},
   "outputs": [
    {
     "data": {
      "image/png": "[encoded data removed]",
      "text/plain": [
       "<Figure size 1000x600 with 3 Axes>"
      ]
     },
     "metadata": {},
     "output_type": "display_data"
    }
   ],
   "source": [
    "numeric_df = df.select_dtypes(include='number')\n",
    "numeric_df = numeric_df.drop(['children'], axis = 1)\n",
    "\n",
    "plt.figure(figsize = (10,6))\n",
    "i = 1\n",
    "\n",
    "for cols in numeric_df.columns:\n",
    "    plt.subplot(2,2,i);i += 1\n",
    "    sns.boxplot(x = numeric_df[cols], data = df)\n",
    "    plt.tight_layout()\n",
    "plt.show()"
   ]
  },
  {
   "cell_type": "code",
   "execution_count": 16,
   "id": "5cf4dc9d",
   "metadata": {},
   "outputs": [],
   "source": [
    "# encoding Sex column\n",
    "df['sex'].replace({'female':0, 'male':1}, inplace = True)\n",
    "df['smoker'].replace({'no':0, 'yes':1}, inplace = True)"
   ]
  },
  {
   "cell_type": "code",
   "execution_count": 17,
   "id": "7ba4b2fd",
   "metadata": {},
   "outputs": [],
   "source": [
    "df = pd.get_dummies(df, columns=['region'], prefix='region')"
   ]
  },
  {
   "cell_type": "code",
   "execution_count": null,
   "id": "3522bde9",
   "metadata": {},
   "outputs": [],
   "source": [
    "df = df.drop(columns=['region_northwest'])"
   ]
  },
  {
   "cell_type": "markdown",
   "id": "7bde0b02",
   "metadata": {},
   "source": [
    "# Spliting X&y \n"
   ]
  },
  {
   "cell_type": "code",
   "execution_count": 19,
   "id": "c04619d2",
   "metadata": {},
   "outputs": [],
   "source": [
    "X = df.drop('expenses', axis = 1)\n",
    "y = df.expenses"
   ]
  },
  {
   "cell_type": "code",
   "execution_count": 20,
   "id": "0d82ca6f",
   "metadata": {},
   "outputs": [],
   "source": [
    "from sklearn.model_selection import train_test_split\n",
    "\n",
    "x_train, x_test, y_train, y_test = train_test_split(X, y, test_size=0.2, random_state=9) "
   ]
  },
  {
   "cell_type": "markdown",
   "id": "d730bcda",
   "metadata": {},
   "source": [
    "# Modeling"
   ]
  },
  {
   "cell_type": "code",
   "execution_count": 21,
   "id": "16d09d53",
   "metadata": {},
   "outputs": [
    {
     "name": "stdout",
     "output_type": "stream",
     "text": [
      "train R2:  0.4036650668573992\n",
      "test R2:  0.3511634158284753\n",
      "0.3874825424286402\n"
     ]
    }
   ],
   "source": [
    "from sklearn.linear_model import ElasticNet\n",
    "\n",
    "enr_base = ElasticNet()\n",
    "enr_base.fit(x_train, y_train)\n",
    "\n",
    "#prediction \n",
    "ypred_train = enr_base.predict(x_train)\n",
    "ypred_test = enr_base.predict(x_test)\n",
    "\n",
    "#evalution\n",
    "print(\"train R2: \", enr_base.score(x_train,y_train))\n",
    "print(\"test R2: \", enr_base.score(x_test,y_test))\n",
    "\n",
    "from sklearn.model_selection import cross_val_score\n",
    "\n",
    "print(cross_val_score(enr_base, X, y, cv=5 ,).mean())"
   ]
  },
  {
   "cell_type": "code",
   "execution_count": 23,
   "id": "54cbc992",
   "metadata": {},
   "outputs": [
    {
     "data": {
      "text/plain": [
       "{'alpha': 70, 'l1_ratio': 1}"
      ]
     },
     "execution_count": 23,
     "metadata": {},
     "output_type": "execute_result"
    }
   ],
   "source": [
    "# Applying Hyperperameter tuning for ElasticNet regression\n",
    "from sklearn.model_selection import GridSearchCV\n",
    "\n",
    "estimator = ElasticNet()\n",
    "\n",
    "param_grid = {'alpha':[0.1,0.2,0.5,0.7,1,10,30,50,70,100],'l1_ratio':[0.1,0.5,0.75,0.9,0.95,1]}\n",
    "\n",
    "model_hp = GridSearchCV(estimator, param_grid, cv=5, scoring=\"neg_mean_squared_error\")\n",
    "model_hp.fit(x_train, y_train)\n",
    "model_hp.best_params_"
   ]
  },
  {
   "cell_type": "code",
   "execution_count": 24,
   "id": "f082ddaf",
   "metadata": {},
   "outputs": [
    {
     "name": "stdout",
     "output_type": "stream",
     "text": [
      "train R2:  0.7581632998622089\n",
      "test R2:  0.7070895163285565\n",
      "0.7471470223632863\n"
     ]
    }
   ],
   "source": [
    "from sklearn.linear_model import ElasticNet\n",
    "\n",
    "enr_base = ElasticNet(alpha=70, l1_ratio=1)\n",
    "enr_base.fit(x_train, y_train)\n",
    "\n",
    "#prediction \n",
    "ypred_train = enr_base.predict(x_train)\n",
    "ypred_test = enr_base.predict(x_test)\n",
    "\n",
    "#evalution\n",
    "print(\"train R2: \", enr_base.score(x_train,y_train))\n",
    "print(\"test R2: \", enr_base.score(x_test,y_test))\n",
    "\n",
    "from sklearn.model_selection import cross_val_score\n",
    "\n",
    "print(cross_val_score(enr_base, X, y, cv=5 ,).mean())"
   ]
  },
  {
   "cell_type": "code",
   "execution_count": 25,
   "id": "f3817b60",
   "metadata": {},
   "outputs": [
    {
     "data": {
      "text/html": [
       "<div>\n",
       "<style scoped>\n",
       "    .dataframe tbody tr th:only-of-type {\n",
       "        vertical-align: middle;\n",
       "    }\n",
       "\n",
       "    .dataframe tbody tr th {\n",
       "        vertical-align: top;\n",
       "    }\n",
       "\n",
       "    .dataframe thead th {\n",
       "        text-align: right;\n",
       "    }\n",
       "</style>\n",
       "<table border=\"1\" class=\"dataframe\">\n",
       "  <thead>\n",
       "    <tr style=\"text-align: right;\">\n",
       "      <th></th>\n",
       "      <th>age</th>\n",
       "      <th>sex</th>\n",
       "      <th>bmi</th>\n",
       "      <th>children</th>\n",
       "      <th>smoker</th>\n",
       "      <th>region_northeast</th>\n",
       "      <th>region_southeast</th>\n",
       "      <th>region_southwest</th>\n",
       "    </tr>\n",
       "  </thead>\n",
       "  <tbody>\n",
       "    <tr>\n",
       "      <th>573</th>\n",
       "      <td>62</td>\n",
       "      <td>0</td>\n",
       "      <td>36.9</td>\n",
       "      <td>1</td>\n",
       "      <td>0</td>\n",
       "      <td>1</td>\n",
       "      <td>0</td>\n",
       "      <td>0</td>\n",
       "    </tr>\n",
       "    <tr>\n",
       "      <th>486</th>\n",
       "      <td>54</td>\n",
       "      <td>0</td>\n",
       "      <td>21.5</td>\n",
       "      <td>3</td>\n",
       "      <td>0</td>\n",
       "      <td>0</td>\n",
       "      <td>0</td>\n",
       "      <td>0</td>\n",
       "    </tr>\n",
       "  </tbody>\n",
       "</table>\n",
       "</div>"
      ],
      "text/plain": [
       "     age  sex   bmi  children  smoker  region_northeast  region_southeast  \\\n",
       "573   62    0  36.9         1       0                 1                 0   \n",
       "486   54    0  21.5         3       0                 0                 0   \n",
       "\n",
       "     region_southwest  \n",
       "573                 0  \n",
       "486                 0  "
      ]
     },
     "execution_count": 25,
     "metadata": {},
     "output_type": "execute_result"
    }
   ],
   "source": [
    "x_train.head(2)"
   ]
  },
  {
   "cell_type": "code",
   "execution_count": 26,
   "id": "7cedbb59",
   "metadata": {},
   "outputs": [
    {
     "data": {
      "text/plain": [
       "array([4239.30397036])"
      ]
     },
     "execution_count": 26,
     "metadata": {},
     "output_type": "execute_result"
    }
   ],
   "source": [
    "enr_base.predict([[31,0,25.74,0,0,1,0,0]])"
   ]
  },
  {
   "cell_type": "code",
   "execution_count": 27,
   "id": "e355ff29",
   "metadata": {},
   "outputs": [
    {
     "data": {
      "text/html": [
       "<div>\n",
       "<style scoped>\n",
       "    .dataframe tbody tr th:only-of-type {\n",
       "        vertical-align: middle;\n",
       "    }\n",
       "\n",
       "    .dataframe tbody tr th {\n",
       "        vertical-align: top;\n",
       "    }\n",
       "\n",
       "    .dataframe thead th {\n",
       "        text-align: right;\n",
       "    }\n",
       "</style>\n",
       "<table border=\"1\" class=\"dataframe\">\n",
       "  <thead>\n",
       "    <tr style=\"text-align: right;\">\n",
       "      <th></th>\n",
       "      <th>age</th>\n",
       "      <th>sex</th>\n",
       "      <th>bmi</th>\n",
       "      <th>children</th>\n",
       "      <th>smoker</th>\n",
       "      <th>region_northeast</th>\n",
       "      <th>region_southeast</th>\n",
       "      <th>region_southwest</th>\n",
       "    </tr>\n",
       "  </thead>\n",
       "  <tbody>\n",
       "    <tr>\n",
       "      <th>573</th>\n",
       "      <td>62</td>\n",
       "      <td>0</td>\n",
       "      <td>36.9</td>\n",
       "      <td>1</td>\n",
       "      <td>0</td>\n",
       "      <td>1</td>\n",
       "      <td>0</td>\n",
       "      <td>0</td>\n",
       "    </tr>\n",
       "    <tr>\n",
       "      <th>486</th>\n",
       "      <td>54</td>\n",
       "      <td>0</td>\n",
       "      <td>21.5</td>\n",
       "      <td>3</td>\n",
       "      <td>0</td>\n",
       "      <td>0</td>\n",
       "      <td>0</td>\n",
       "      <td>0</td>\n",
       "    </tr>\n",
       "  </tbody>\n",
       "</table>\n",
       "</div>"
      ],
      "text/plain": [
       "     age  sex   bmi  children  smoker  region_northeast  region_southeast  \\\n",
       "573   62    0  36.9         1       0                 1                 0   \n",
       "486   54    0  21.5         3       0                 0                 0   \n",
       "\n",
       "     region_southwest  \n",
       "573                 0  \n",
       "486                 0  "
      ]
     },
     "execution_count": 27,
     "metadata": {},
     "output_type": "execute_result"
    }
   ],
   "source": [
    "x_train.head(2)"
   ]
  },
  {
   "cell_type": "code",
   "execution_count": 28,
   "id": "366f2abc",
   "metadata": {},
   "outputs": [
    {
     "data": {
      "text/plain": [
       "array([17118.26184038])"
      ]
     },
     "execution_count": 28,
     "metadata": {},
     "output_type": "execute_result"
    }
   ],
   "source": [
    "enr_base.predict([[62,0,36.9,1,0,1,0,0]])"
   ]
  },
  {
   "cell_type": "code",
   "execution_count": 30,
   "id": "dae0949f",
   "metadata": {},
   "outputs": [
    {
     "data": {
      "text/plain": [
       "573    31620.0\n",
       "Name: expenses, dtype: float64"
      ]
     },
     "execution_count": 30,
     "metadata": {},
     "output_type": "execute_result"
    }
   ],
   "source": [
    "y_train.head(1)"
   ]
  },
  {
   "cell_type": "code",
   "execution_count": null,
   "id": "ba88fe0f",
   "metadata": {},
   "outputs": [],
   "source": []
  }
 ],
 "metadata": {
  "kernelspec": {
   "display_name": "Python 3 (ipykernel)",
   "language": "python",
   "name": "python3"
  },
  "language_info": {
   "codemirror_mode": {
    "name": "ipython",
    "version": 3
   },
   "file_extension": ".py",
   "mimetype": "text/x-python",
   "name": "python",
   "nbconvert_exporter": "python",
   "pygments_lexer": "ipython3",
   "version": "3.11.3"
  }
 },
 "nbformat": 4,
 "nbformat_minor": 5
}
